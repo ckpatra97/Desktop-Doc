{
 "cells": [
  {
   "cell_type": "code",
   "execution_count": null,
   "metadata": {},
   "outputs": [],
   "source": [
    "import pandas as pd\n",
    "import numpy as np\n",
    "import re\n",
    "import string\n",
    "from nltk.corpus import stopwords\n",
    "from sklearn.model_selection import train_test_split\n",
    "from sklearn.feature_extraction.text import TfidfVectorizer , CountVectorizer\n",
    "from nltk.stem import WordNetLemmatizer "
   ]
  },
  {
   "cell_type": "code",
   "execution_count": null,
   "metadata": {},
   "outputs": [],
   "source": [
    "pos_rev = pd.read_csv('netflix/pos.txt' , sep = '\\n' , header= None , encoding='latin-1')\n",
    "pos_rev['mood'] = 1\n",
    "pos_rev.rename(columns={0 : 'review'} , inplace = True)\n",
    "pos_rev"
   ]
  },
  {
   "cell_type": "code",
   "execution_count": null,
   "metadata": {},
   "outputs": [],
   "source": [
    "neg_rev = pd.read_csv('netflix/negative.txt' , sep = '\\n' , header= None , encoding='latin-1')\n",
    "neg_rev['mood'] = 0\n",
    "neg_rev.rename(columns={0 : 'review'} , inplace = True)\n",
    "neg_rev"
   ]
  },
  {
   "cell_type": "code",
   "execution_count": null,
   "metadata": {},
   "outputs": [],
   "source": [
    "#1. lower\n",
    "#2. regex \n",
    "#3. stopwords\n",
    "#4. punctuations\n",
    "#5. lemmatize\n",
    "\n"
   ]
  },
  {
   "cell_type": "code",
   "execution_count": null,
   "metadata": {},
   "outputs": [],
   "source": [
    "sw = stopwords.words('english')\n",
    "lem = WordNetLemmatizer()"
   ]
  },
  {
   "cell_type": "code",
   "execution_count": null,
   "metadata": {},
   "outputs": [],
   "source": [
    "\n",
    "pos_rev['review'] = pos_rev.loc[: , 'review'].apply(lambda x : x.lower())\n",
    "pos_rev['review'] = pos_rev.loc[: , 'review'].apply(lambda x : re.sub(r'@\\S+' , '' , x))\n",
    "pos_rev['review'] = pos_rev.loc[: , 'review'].apply(lambda x : x.translate(str.maketrans(dict.fromkeys(string.punctuation))))\n",
    "pos_rev['review'] = pos_rev.loc[: , 'review'].apply(lambda x : \" \".join([lem.lemmatize(word , pos='v') for word in x.split() if word not in (sw)]))\n",
    "pos_rev"
   ]
  },
  {
   "cell_type": "code",
   "execution_count": null,
   "metadata": {},
   "outputs": [],
   "source": [
    "neg_rev['review'] = neg_rev.loc[: , 'review'].apply(lambda x : x.lower())\n",
    "neg_rev['review'] = neg_rev.loc[: , 'review'].apply(lambda x : re.sub(r'@\\S+' , '' , x))\n",
    "neg_rev['review'] = neg_rev.loc[: , 'review'].apply(lambda x : x.translate(str.maketrans(dict.fromkeys(string.punctuation))))\n",
    "neg_rev['review'] = neg_rev.loc[: , 'review'].apply(lambda x : \" \".join([lem.lemmatize(word , pos='v') for word in x.split() if word not in (sw)]))\n",
    "neg_rev"
   ]
  },
  {
   "cell_type": "code",
   "execution_count": null,
   "metadata": {},
   "outputs": [],
   "source": [
    "com_rev = pd.concat([pos_rev , neg_rev]).reset_index(drop = True)\n",
    "com_rev"
   ]
  },
  {
   "cell_type": "code",
   "execution_count": null,
   "metadata": {},
   "outputs": [],
   "source": [
    "com_rev['review'].values"
   ]
  },
  {
   "cell_type": "code",
   "execution_count": null,
   "metadata": {},
   "outputs": [],
   "source": [
    "X_train , X_test , y_train , y_test = train_test_split(com_rev['review'].values , com_rev['mood'].values , test_size = 0.2, random_state = 101)"
   ]
  },
  {
   "cell_type": "code",
   "execution_count": null,
   "metadata": {},
   "outputs": [],
   "source": [
    "# train_data = pd.DataFrame({'review':X_train , 'mood':y_tra})"
   ]
  },
  {
   "cell_type": "code",
   "execution_count": null,
   "metadata": {},
   "outputs": [],
   "source": [
    "vectorizer = TfidfVectorizer()\n",
    "train_vectors = vectorizer.fit_transform(X_train)\n",
    "test_vectors = vectorizer.transform(X_test)"
   ]
  },
  {
   "cell_type": "code",
   "execution_count": null,
   "metadata": {},
   "outputs": [],
   "source": [
    "from sklearn import svm\n",
    "from sklearn.metrics import classification_report"
   ]
  },
  {
   "cell_type": "code",
   "execution_count": null,
   "metadata": {},
   "outputs": [],
   "source": [
    "classifier = svm.SVC(kernel = 'linear')\n",
    "classifier.fit(train_vectors , y_train)"
   ]
  },
  {
   "cell_type": "code",
   "execution_count": null,
   "metadata": {},
   "outputs": [],
   "source": [
    "pred = classifier.predict(test_vectors)"
   ]
  },
  {
   "cell_type": "code",
   "execution_count": null,
   "metadata": {},
   "outputs": [],
   "source": [
    "report  = classification_report(y_test , pred , output_dict=True)\n",
    "report"
   ]
  },
  {
   "cell_type": "code",
   "execution_count": null,
   "metadata": {},
   "outputs": [],
   "source": [
    "import joblib\n",
    "joblib.dump(classifier , 'svm.pkl')\n",
    "joblib.dump(vectorizer , 'transform.pkl')"
   ]
  },
  {
   "cell_type": "code",
   "execution_count": 1,
   "metadata": {},
   "outputs": [],
   "source": [
    "import joblib\n",
    "vector = joblib.load('transform.pkl')\n",
    "model = joblib.load('svm.pkl')"
   ]
  },
  {
   "cell_type": "code",
   "execution_count": 3,
   "metadata": {},
   "outputs": [
    {
     "data": {
      "text/plain": [
       "array([1])"
      ]
     },
     "execution_count": 3,
     "metadata": {},
     "output_type": "execute_result"
    }
   ],
   "source": [
    "data = ['movie is not good']\n",
    "\n",
    "tfidf = vector.transform(data).toarray()\n",
    "my_pred = model.predict(tfidf)\n",
    "my_pred"
   ]
  },
  {
   "cell_type": "code",
   "execution_count": null,
   "metadata": {},
   "outputs": [],
   "source": [
    "#ImportError: cannot import name 'StanzaLanguage' from 'spacy_stanza' (C:\\Users\\Admin\\Anaconda3\\lib\\site-packages\\spacy_stanza\\__init__.py) "
   ]
  }
 ],
 "metadata": {
  "kernelspec": {
   "display_name": "Python 3",
   "language": "python",
   "name": "python3"
  },
  "language_info": {
   "codemirror_mode": {
    "name": "ipython",
    "version": 3
   },
   "file_extension": ".py",
   "mimetype": "text/x-python",
   "name": "python",
   "nbconvert_exporter": "python",
   "pygments_lexer": "ipython3",
   "version": "3.8.5"
  }
 },
 "nbformat": 4,
 "nbformat_minor": 4
}
